{
 "cells": [
  {
   "cell_type": "code",
   "execution_count": null,
   "metadata": {},
   "outputs": [],
   "source": [
    "\"\"\"\n",
    "import sys\n",
    "!{sys.executable} -m pip install matplotlib\n",
    "!{sys.executable} -m pip install pandas\n",
    "\"\"\""
   ]
  },
  {
   "cell_type": "code",
   "execution_count": 1,
   "metadata": {},
   "outputs": [],
   "source": [
    "import matplotlib.pyplot as plt\n",
    "import numpy as np\n",
    "import pandas as pd"
   ]
  },
  {
   "cell_type": "markdown",
   "metadata": {},
   "source": [
    "When most people talk about matrices and vectors, \n",
    "they talk about graphs.  But that's difficult to relate\n",
    "to everyday life.  So in this video, I'd like to\n",
    "try to conceptualize matrices and vectors as\n",
    "scalars -- or ordinary numbers.\n",
    "\n",
    "So let's look at frog.  It has one mouth and two\n",
    "eyes.  If I were to ask, \"How many mouths and eyes\n",
    "would 3 frogs have?\", the answer would be pretty\n",
    "easy:\n",
    "\n",
    "$$ \\frac{1 mouth}{frog} \\times 3 frogs = 3 mouths $$\n",
    "\n",
    "$$ \\frac{2 eyes}{frog} \\times 3 frogs = 6 eyes $$\n",
    "\n",
    "But we are solving two problem separately.  What\n",
    "we can do is to create a vector as a collection\n",
    "of related numbers.  In this case, the number\n",
    "of mouths and number of eyes.  We will write\n",
    "our vector like this:\n",
    "\n",
    "$$\n",
    "\\begin{vmatrix}\n",
    "1 \\\\\n",
    "2\n",
    "\\end{vmatrix}\n",
    "$$\n",
    "\n",
    "Now we can answer the question by multiplying\n",
    "the vector by the number of frogs:\n",
    "\n",
    "$$\n",
    "3 \\cdot \\begin{vmatrix}\n",
    "1 \\\\\n",
    "2 \n",
    "\\end{vmatrix} = \n",
    "\\begin{vmatrix}\n",
    "3 \\\\\n",
    "6 \n",
    "\\end{vmatrix}\n",
    "$$\n",
    "\n",
    "Now we can get the number of mouths and eyes\n",
    "with one operation, even though this one\n",
    "operation involves two multiplications.\n",
    "\n",
    "Remember that multiplying a vector by a number\n",
    "is just multiplying all the numbers in the \n",
    "vector by that number."
   ]
  },
  {
   "cell_type": "code",
   "execution_count": 9,
   "metadata": {},
   "outputs": [
    {
     "data": {
      "text/plain": [
       "array([3, 6])"
      ]
     },
     "execution_count": 9,
     "metadata": {},
     "output_type": "execute_result"
    }
   ],
   "source": [
    "frog = np.array([1 ,2])\n",
    "3 * frog"
   ]
  },
  {
   "cell_type": "markdown",
   "metadata": {},
   "source": [
    "If that wasn't terribly exciting, let's say\n",
    "I can sell a mouth for 2 dollars and an eye\n",
    "for 3 dollars,\n",
    "how much money would I get if I sold the\n",
    "frog for parts?\n",
    "\n",
    "$$ \\frac{\\$2}{mouth} \\cdot 1 mouth = \\$2 $$\n",
    "\n",
    "$$ \\frac{\\$3}{eye} \\cdot 2 eyes = \\$6 $$\n",
    "\n",
    "for a total of 8 dollars."
   ]
  },
  {
   "cell_type": "markdown",
   "metadata": {},
   "source": [
    "That had a lot of steps.  It would be easier to set up another \n",
    "vector with the prices:\n",
    "\n",
    "$$ \\begin{vmatrix} 2 \\\\ 3 \\end{vmatrix} $$\n",
    "\n",
    "and just multiply prices with our frog.  And it helps to put the units in:\n",
    "\n",
    "$$ \\begin{vmatrix} \\frac{\\$2}{mouth} \\\\ \\frac{\\$3}{eye} \\end{vmatrix} \n",
    "\\cdot \n",
    "\\begin{vmatrix} 1 mouth \\\\ 2 eyes\\end{vmatrix} = \\$8 $$"
   ]
  },
  {
   "cell_type": "code",
   "execution_count": 12,
   "metadata": {},
   "outputs": [
    {
     "data": {
      "text/plain": [
       "8"
      ]
     },
     "execution_count": 12,
     "metadata": {},
     "output_type": "execute_result"
    }
   ],
   "source": [
    "price = np.array([2, 3])\n",
    "price @ frog"
   ]
  },
  {
   "cell_type": "markdown",
   "metadata": {},
   "source": [
    "That was taking the dot product of two vectors.  We can also perform\n",
    "a multiplication.  To do that, we need to transpose our price into a\n",
    "1 row by 2 column matrix first:\n",
    "\n",
    "$$ \\begin{vmatrix} \\frac{\\$2}{mouth} \\frac{\\$3}{eye} \\end{vmatrix}\n",
    "\\times\n",
    "\\begin{vmatrix} 1 mouth \\\\ 2 eyes\\end{vmatrix} = \\$8 $$\n",
    "\n",
    "The rule is to line up the units horizontally on the left matrix and\n",
    "vertically on the right matrix."
   ]
  },
  {
   "cell_type": "code",
   "execution_count": 11,
   "metadata": {},
   "outputs": [
    {
     "data": {
      "text/plain": [
       "8"
      ]
     },
     "execution_count": 11,
     "metadata": {},
     "output_type": "execute_result"
    }
   ],
   "source": [
    "price.T @ frog"
   ]
  },
  {
   "cell_type": "markdown",
   "metadata": {},
   "source": [
    "A cyclops only has one mouth and one eye, so if I had a frog and a cyclops, how many\n",
    "mouths and eyes would I have?\n",
    "\n",
    "To get the answer, I would add the vectors:\n",
    "\n",
    "$$ \\begin{vmatrix} 1 \\\\ 2 \\end{vmatrix} + \\begin{vmatrix} 1 \\\\ 1 \\end{vmatrix}\n",
    "= \\begin{vmatrix} 2 \\\\ 3 \\end{vmatrix} $$\n",
    "\n",
    "(vector addition is just adding the corresponding elements)\n",
    "\n",
    "And if I had 3 frogs and 4 cyclopes?\n",
    "\n",
    "$$ 3 \\cdot \\begin{vmatrix} 1 \\\\ 2 \\end{vmatrix} +\n",
    "4 \\cdot \\begin{vmatrix} 1 \\\\ 1 \\end{vmatrix}\n",
    "= \\begin{vmatrix} 7 \\\\ 10 \\end{vmatrix} $$\n",
    "\n",
    "You know where this is going.  We can put our body parts information into\n",
    "a single matrix:\n",
    "\n",
    "$$\n",
    "\\begin{vmatrix} \\frac{1 mouth}{frog} \\frac{1 mouth}{cyclops} \\\\\n",
    "\\frac{2 eyes}{frog} \\frac{1 eye}{cyclops}\n",
    "\\end{vmatrix}\n",
    "$$\n",
    "\n",
    "And we can put the number of creatures I have in another matrix:\n",
    "\n",
    "$$ \\begin{vmatrix} 3 frogs \\\\ 4 cyclopes \\end{vmatrix} $$\n",
    "\n",
    "Remember to line up the frogs and cyclops horizontally on the left\n",
    "and vertically on the right, and we multiply:\n",
    "\n",
    "$$\n",
    "\\begin{vmatrix} \\frac{1 mouth}{frog} \\frac{1 mouth}{cyclops} \\\\\n",
    "\\frac{2 eyes}{frog} \\frac{1 eye}{cyclops}\n",
    "\\end{vmatrix}\n",
    "\\times\n",
    "\\begin{vmatrix} 3 frogs \\\\ 4 cyclopes \\end{vmatrix}\n",
    "= \\begin{vmatrix} 7 mouths \\\\ 10 eyes \\end{vmatrix}\n",
    "$$"
   ]
  },
  {
   "cell_type": "code",
   "execution_count": 13,
   "metadata": {},
   "outputs": [
    {
     "data": {
      "text/plain": [
       "array([ 7, 10])"
      ]
     },
     "execution_count": 13,
     "metadata": {},
     "output_type": "execute_result"
    }
   ],
   "source": [
    "creature = np.array([[1, 1], \n",
    "                     [2, 1]])\n",
    "inventory = np.array([3, 4])\n",
    "creature @ inventory"
   ]
  },
  {
   "cell_type": "markdown",
   "metadata": {},
   "source": [
    "And how much money would I get for my inventory?"
   ]
  },
  {
   "cell_type": "code",
   "execution_count": 7,
   "metadata": {},
   "outputs": [
    {
     "data": {
      "text/plain": [
       "44"
      ]
     },
     "execution_count": 7,
     "metadata": {},
     "output_type": "execute_result"
    }
   ],
   "source": [
    "creature @ inventory @ price"
   ]
  },
  {
   "cell_type": "markdown",
   "metadata": {},
   "source": [
    "Conclusion: matrices helps us to treat a collection of related numbers as one number."
   ]
  },
  {
   "cell_type": "code",
   "execution_count": null,
   "metadata": {},
   "outputs": [],
   "source": []
  }
 ],
 "metadata": {
  "kernelspec": {
   "display_name": "Python 3",
   "language": "python",
   "name": "python3"
  },
  "language_info": {
   "codemirror_mode": {
    "name": "ipython",
    "version": 3
   },
   "file_extension": ".py",
   "mimetype": "text/x-python",
   "name": "python",
   "nbconvert_exporter": "python",
   "pygments_lexer": "ipython3",
   "version": "3.8.3"
  }
 },
 "nbformat": 4,
 "nbformat_minor": 4
}
