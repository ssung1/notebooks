{
 "cells": [
  {
   "cell_type": "code",
   "execution_count": 1,
   "metadata": {},
   "outputs": [
    {
     "name": "stdout",
     "output_type": "stream",
     "text": [
      "Requirement already satisfied: matplotlib in d:\\jojo\\stuff\\notebooks\\lib\\site-packages (3.3.2)\n",
      "Requirement already satisfied: python-dateutil>=2.1 in d:\\jojo\\stuff\\notebooks\\lib\\site-packages (from matplotlib) (2.8.1)\n",
      "Requirement already satisfied: cycler>=0.10 in d:\\jojo\\stuff\\notebooks\\lib\\site-packages (from matplotlib) (0.10.0)\n",
      "Requirement already satisfied: numpy>=1.15 in d:\\jojo\\stuff\\notebooks\\lib\\site-packages (from matplotlib) (1.19.2)\n",
      "Requirement already satisfied: certifi>=2020.06.20 in d:\\jojo\\stuff\\notebooks\\lib\\site-packages (from matplotlib) (2020.6.20)\n",
      "Requirement already satisfied: pillow>=6.2.0 in d:\\jojo\\stuff\\notebooks\\lib\\site-packages (from matplotlib) (8.0.1)\n",
      "Requirement already satisfied: pyparsing!=2.0.4,!=2.1.2,!=2.1.6,>=2.0.3 in d:\\jojo\\stuff\\notebooks\\lib\\site-packages (from matplotlib) (2.4.7)\n",
      "Requirement already satisfied: kiwisolver>=1.0.1 in d:\\jojo\\stuff\\notebooks\\lib\\site-packages (from matplotlib) (1.2.0)\n",
      "Requirement already satisfied: six>=1.5 in d:\\jojo\\stuff\\notebooks\\lib\\site-packages (from python-dateutil>=2.1->matplotlib) (1.15.0)\n"
     ]
    },
    {
     "name": "stderr",
     "output_type": "stream",
     "text": [
      "WARNING: You are using pip version 20.2.2; however, version 20.2.4 is available.\n",
      "You should consider upgrading via the 'd:\\jojo\\stuff\\notebooks\\scripts\\python.exe -m pip install --upgrade pip' command.\n"
     ]
    },
    {
     "name": "stdout",
     "output_type": "stream",
     "text": [
      "Requirement already satisfied: pandas in d:\\jojo\\stuff\\notebooks\\lib\\site-packages (1.1.3)\n",
      "Requirement already satisfied: numpy>=1.15.4 in d:\\jojo\\stuff\\notebooks\\lib\\site-packages (from pandas) (1.19.2)\n",
      "Requirement already satisfied: pytz>=2017.2 in d:\\jojo\\stuff\\notebooks\\lib\\site-packages (from pandas) (2020.1)\n",
      "Requirement already satisfied: python-dateutil>=2.7.3 in d:\\jojo\\stuff\\notebooks\\lib\\site-packages (from pandas) (2.8.1)\n",
      "Requirement already satisfied: six>=1.5 in d:\\jojo\\stuff\\notebooks\\lib\\site-packages (from python-dateutil>=2.7.3->pandas) (1.15.0)\n"
     ]
    },
    {
     "name": "stderr",
     "output_type": "stream",
     "text": [
      "WARNING: You are using pip version 20.2.2; however, version 20.2.4 is available.\n",
      "You should consider upgrading via the 'd:\\jojo\\stuff\\notebooks\\scripts\\python.exe -m pip install --upgrade pip' command.\n"
     ]
    }
   ],
   "source": [
    "import sys\n",
    "!{sys.executable} -m pip install matplotlib\n",
    "!{sys.executable} -m pip install pandas"
   ]
  },
  {
   "cell_type": "code",
   "execution_count": 2,
   "metadata": {},
   "outputs": [],
   "source": [
    "import matplotlib.pyplot as plt\n",
    "import numpy as np\n",
    "import pandas as pd"
   ]
  },
  {
   "cell_type": "markdown",
   "metadata": {},
   "source": [
    "In linear regression, we are creating a linear function to calculate value $f(x)$ for a given $x$.  To find $f(x)$, we are given sample values of $x$ and $y$.  We want our $f(x)$ to be very close to $y$ for every value of $x$.  The hope is that for any other values of $x$ not in the sample, $f(x)$ would predict the correct value of $y$.\n",
    "\n",
    "The equation is just like any linear equation, in the form of\n",
    "\n",
    "$$\n",
    "f(x) = mx + b\n",
    "$$\n",
    "\n",
    "But in linear-regression-speak, we write\n",
    "\n",
    "$$\n",
    "h_\\theta(x) = \\theta_0 + \\theta_1x\n",
    "$$\n",
    "\n",
    "(this is not complete as we will see later, but it is easier to understand for now)"
   ]
  },
  {
   "cell_type": "markdown",
   "metadata": {},
   "source": [
    "The steps of linear regression are\n",
    "\n",
    "1. Pick some $\\theta_{0}$ and $\\theta_{1}$\n",
    "2. Calculate $h_{\\theta}(x)$ for every given sample of $x$\n",
    "3. Compare the calculated value with the actual value.  Calculate the overall error level (known as cost function $J$)\n",
    "   by using\n",
    "   $$\n",
    "     \\frac12\\sum_{i=1}^m(h_\\theta(x)^{(i)} - y^{(i)})^2\n",
    "   $$\n",
    "   where    \n",
    "   - $m$ is the number of training samples\n",
    "   - $y$ is the actual value of training sample for a given $x$\n",
    "   - $i$ is the index of the training sample\n",
    "   - $x^{(i)}$ is the $x$ of the the training sample of index $i$\n",
    "   - $j$ is the index of the input variable\n",
    "   - $n$ is the number of input variabls per training sample\n",
    "4. Minimize the cost function $J$"
   ]
  },
  {
   "cell_type": "markdown",
   "metadata": {},
   "source": [
    "This time we will try a \"true\" linear training set.\n",
    "\n",
    "|x  |y  |\n",
    "|---|---|\n",
    "|1  |3  |\n",
    "|5  |11 |\n",
    "|2  |5  |\n",
    "\n",
    "At this point, we are still using a single value of x."
   ]
  },
  {
   "cell_type": "markdown",
   "metadata": {},
   "source": [
    "In linear regression, we are creating a linear function to calculate value $f(x)$ for a given $x$.  To find $f(x)$, we are given sample values of $x$ and $y$.  We want our $f(x)$ to be very close to $y$ for every value of $x$.  The hope is that for any other values of $x$ not in the sample, $f(x)$ would predict the correct value of $y$.\n",
    "\n",
    "The equation is just like any linear equation, in the form of\n",
    "\n",
    "$$\n",
    "f(x) = mx + b\n",
    "$$\n",
    "\n",
    "But in linear-regression-speak, we write\n",
    "\n",
    "$$\n",
    "h_\\theta(x) = \\theta_0 + \\theta_1x\n",
    "$$\n",
    "\n",
    "(this is not complete as we will see later, but it is easier to understand for now)"
   ]
  },
  {
   "cell_type": "code",
   "execution_count": 3,
   "metadata": {},
   "outputs": [],
   "source": [
    "training_x = np.array([1, 5, 2])\n",
    "training_y = np.array([3, 11, 5])"
   ]
  },
  {
   "cell_type": "markdown",
   "metadata": {},
   "source": [
    "See previous notebook for a simpler example.  For our current example, however, we now have $\\theta_0$ and $\\theta_1$, so we need to calculate our hypothesis differently.\n",
    "\n",
    "Training data looks like \n",
    "\n",
    "$$\n",
    "\\begin{vmatrix}\n",
    "1 \\\\\n",
    "5 \\\\\n",
    "2 \\\\\n",
    "\\end{vmatrix}\n",
    "$$\n",
    "\n",
    "We want to pad it with a 1 so that the number of input variables (in our case, 1) equals the number of thetas (2).  The number of thetas is always 1 more than the number of input variables.  Don't get confused -- we have only one input variable for every training sample; however, we do have multiple training samples.  Refer to our notation guide from the previous example:\n",
    "   - $m$ is the number of training samples\n",
    "   - $y$ is the actual value of training sample for a given $x$\n",
    "   - $i$ is the index of the training sample\n",
    "   - $x^{(i)}$ is the $x$ of the the training sample of index $i$\n",
    "   - $j$ is the index of the input variable\n",
    "   - $n$ is the number of input variabls per training sample\n",
    "\n",
    "In this example, $n$ is 1.\n",
    "\n",
    "Once we pad the 1, we will have this training data:\n",
    "\n",
    "$$\n",
    "\\begin{vmatrix}\n",
    "1 \\ \\ \\ 1 \\\\\n",
    "1 \\ \\ \\ 5 \\\\\n",
    "1 \\ \\ \\ 2 \\\\\n",
    "\\end{vmatrix}\n",
    "$$\n",
    "\n",
    "Our hypothesis is calculated as:\n",
    "\n",
    "$$\n",
    "\\begin{vmatrix}\n",
    "1\\theta_0 + 1\\theta_1 \\\\\n",
    "1\\theta_0 + 5\\theta_1 \\\\\n",
    "1\\theta_0 + 2\\theta_1 \\\\\n",
    "\\end{vmatrix}\n",
    "$$\n",
    "\n"
   ]
  },
  {
   "cell_type": "code",
   "execution_count": 4,
   "metadata": {},
   "outputs": [],
   "source": [
    "# we want\n",
    "#    theta0 * x0 + theta1 * x1\n",
    "# (and remember x0 is set to 1 to simplify calculation)\n",
    "def padded_training_x(training_x):\n",
    "    # training_x looks like 1, 5, 2\n",
    "    size_of_sample = training_x.size\n",
    "    padding = np.ones(size_of_sample)    \n",
    "    padded = np.array([padding, training_x])\n",
    "    # but we want it in a different orientation\n",
    "    return padded.T\n",
    "    \n",
    "def hypothesis_theta(training_x, theta):\n",
    "    return padded_training_x(training_x) @ theta"
   ]
  },
  {
   "cell_type": "markdown",
   "metadata": {},
   "source": [
    "And we will repeat some of the functions from previous example (with slight modifications):"
   ]
  },
  {
   "cell_type": "markdown",
   "metadata": {},
   "source": [
    "But if we start from $\\theta_0 = 0$, how do we get to 5?\n",
    "\n",
    "To understand this, we can look at the instantaneous slope (derivative) of the cost at $\\theta_0$.  If the slope is negative, we need to increase $\\theta_0$, and if the slope is positive, we need to increase $\\theta_0$.  Not only that, the amount to increase is proportional to the slope.  The proportion, in our case, is the learning rate $\\alpha$.\n",
    "\n",
    "We can get closer to the correct $\\theta_0$ by the gradient descent formula\n",
    "\n",
    "$$\n",
    "\\theta_0 = \\theta_0 - \\alpha\\sum_{i=1}^m(h_\\theta(x^{(i)}) - y^{(i)})x_0\n",
    "$$\n",
    "\n",
    "where:\n",
    "- $x_0$ is 1 (so that $\\theta_0x$ = $\\theta_0$)\n",
    "- $\\alpha$ is the learning rate so we don't overshoot"
   ]
  },
  {
   "cell_type": "code",
   "execution_count": 5,
   "metadata": {},
   "outputs": [],
   "source": [
    "learning_rate_alpha = 0.01\n",
    "acceptable_cost = 0.01\n",
    "max_iterations = 100\n",
    "\n",
    "def cost(hypothesis, training_y):\n",
    "    return np.sum((hypothesis - training_y) ** 2) / 2\n",
    "\n",
    "def slope(hypothesis, training_y, training_x):\n",
    "    # we have our padded training samples\n",
    "    # 1  1\n",
    "    # 1  5\n",
    "    # 1  2\n",
    "\n",
    "    # for each row, we want to multiply by the difference\n",
    "    # 1 x -3    1 x -3\n",
    "    # 1 x -11   5 x -11\n",
    "    # 1 x -15   2 x -15\n",
    "\n",
    "    # then we want to sum up by column\n",
    "    # 1 x -3 + 1 x - 11 + 1 x -15         1 x -3 + 5 x -11 + 2 x -15\n",
    "    \n",
    "    # looks awefully like\n",
    "    #\n",
    "    # | 1 1 1 |     | -3|\n",
    "    # | 1 5 2 |  X  |-11|\n",
    "    #               |-15|\n",
    "    return padded_training_x(training_x).T @ (hypothesis - training_y)\n",
    "\n",
    "def gradient_descent(theta, training_y):\n",
    "    hypothesis = hypothesis_theta(training_x, theta)\n",
    "    return theta - learning_rate_alpha * slope(hypothesis_theta(training_x, theta), training_y, training_x)\n",
    "\n",
    "def find_minimum(training_x, training_y):\n",
    "    theta = np.array([0, 0])\n",
    "    iteration = 0\n",
    "    current_cost = cost(hypothesis_theta(training_x, theta), training_y)\n",
    "    while current_cost > acceptable_cost and iteration < max_iterations:\n",
    "        theta = gradient_descent(theta, training_y)\n",
    "        current_cost = cost(hypothesis_theta(training_x, theta), training_y)\n",
    "        print((theta, current_cost))\n",
    "        iteration += 1\n",
    "    return (theta, cost)"
   ]
  },
  {
   "cell_type": "markdown",
   "metadata": {},
   "source": [
    "Let's go through one round of gradient descent just to make sure it makes sense:"
   ]
  },
  {
   "cell_type": "code",
   "execution_count": 6,
   "metadata": {},
   "outputs": [
    {
     "data": {
      "text/plain": [
       "array([0., 0., 0.])"
      ]
     },
     "execution_count": 6,
     "metadata": {},
     "output_type": "execute_result"
    }
   ],
   "source": [
    "theta_round_0 = np.array([0, 0])\n",
    "#          x   hypothesis\n",
    "# (0)(1) + 0            0\n",
    "# (0)(5) + 0            0\n",
    "# (0)(2) + 0            0\n",
    "hypothesis_round_0 = hypothesis_theta(training_x, theta_round_0)\n",
    "hypothesis_round_0"
   ]
  },
  {
   "cell_type": "code",
   "execution_count": 7,
   "metadata": {},
   "outputs": [
    {
     "data": {
      "text/plain": [
       "77.5"
      ]
     },
     "execution_count": 7,
     "metadata": {},
     "output_type": "execute_result"
    }
   ],
   "source": [
    "#          x   hypothesis  y  difference  difference**2\n",
    "# (0)(1) + 0            0  3          -3              9\n",
    "# (0)(5) + 0            0 11         -11            121\n",
    "# (0)(2) + 0            0  5          -5             25\n",
    "\n",
    "# total                                             155\n",
    "cost_round_0 = cost(hypothesis_round_0, training_y)\n",
    "cost_round_0"
   ]
  },
  {
   "cell_type": "code",
   "execution_count": 8,
   "metadata": {},
   "outputs": [
    {
     "data": {
      "text/plain": [
       "array([-19., -68.])"
      ]
     },
     "execution_count": 8,
     "metadata": {},
     "output_type": "execute_result"
    }
   ],
   "source": [
    "#          x   hypothesis  y  difference  slope_for_theta_0 slope_for_theta_1\n",
    "# (0)(1) + 0            0  3          -3                 -3                -3\n",
    "# (0)(5) + 0            0 11         -11                -11               -55\n",
    "# (0)(2) + 0            0  5          -5                 -5               -10\n",
    "\n",
    "# total                                                 -19               -68\n",
    "\n",
    "slope_round_0 = slope(hypothesis_round_0, training_y, training_x)\n",
    "slope_round_0"
   ]
  },
  {
   "cell_type": "code",
   "execution_count": 9,
   "metadata": {},
   "outputs": [
    {
     "name": "stdout",
     "output_type": "stream",
     "text": [
      "(array([0.19, 0.68]), 35.673750000000005)\n",
      "(array([0.3199, 1.1408]), 16.441908974999997)\n",
      "(array([0.409039, 1.452968]), 7.598709112657499)\n",
      "(array([0.47053039, 1.66435448]), 3.5320886488925596)\n",
      "(array([0.51326612, 1.8074057 ]), 1.6616905919121403)\n",
      "(array([0.54327568, 1.9041227 ]), 0.8010984392836744)\n",
      "(array([0.56464759, 1.96942384]), 0.4048123470338611)\n",
      "(array([0.58015426, 2.01342488]), 0.22201805363042829)\n",
      "(array([0.59167564, 2.04298507]), 0.13739409869421815)\n",
      "(array([0.60048657, 2.0627555 ]), 0.09791694426925235)\n",
      "(array([0.60745153, 2.07588993]), 0.07920687171372698)\n",
      "(array([0.61315679, 2.08452683]), 0.07005423985826334)\n",
      "(array([0.61799994, 2.09011623]), 0.06530484919157929)\n",
      "(array([0.62225064, 2.09364137]), 0.06258871996718074)\n",
      "(array([0.62609181, 2.09576891]), 0.06081602465915498)\n",
      "(array([0.62964755, 2.09695089]), 0.05948553620704203)\n",
      "(array([0.63300205, 2.09749382]), 0.05836666100637261)\n",
      "(array([0.63621248, 2.09760551]), 0.057353241561189094)\n",
      "(array([0.63931767, 2.09742686]), 0.05639633671055326)\n",
      "(array([0.64234399, 2.09705339]), 0.05547331477069584)\n",
      "(array([0.6453094 , 2.09654985]), 0.05457364290875036)\n",
      "(array([0.64822613, 2.09596014]), 0.053692353238528806)\n",
      "(array([0.65110253, 2.09531401]), 0.05282703857900568)\n",
      "(array([0.65394433, 2.09463161]), 0.05197647110874393)\n",
      "(array([0.65675548, 2.09392658]), 0.05113996720838795)\n",
      "(array([0.65953869, 2.09320817]), 0.050317095391747106)\n",
      "(array([0.66229587, 2.09248262]), 0.04950754198528758)\n",
      "(array([0.66502839, 2.09175417]), 0.04871104933889441)\n",
      "(array([0.6677372 , 2.09102564]), 0.04792738738610589)\n",
      "(array([0.67042303, 2.09029898]), 0.047156340538501304)\n",
      "(array([0.67308642, 2.08957544]), 0.04639770163101926)\n",
      "(array([0.6757278 , 2.08885589]), 0.04565126910967122)\n",
      "(array([0.67834749, 2.0881409 ]), 0.04491684571052215)\n",
      "(array([0.68094579, 2.08743083]), 0.04419423782479241)\n",
      "(array([0.68352295, 2.08672592]), 0.04348325517986677)\n",
      "(array([0.68607919, 2.08602631]), 0.04278371066599525)\n",
      "(array([0.68861471, 2.08533208]), 0.04209542023040337)\n",
      "(array([0.6911297 , 2.08464328]), 0.041418202802823635)\n",
      "(array([0.69362435, 2.08395992]), 0.04075188023588484)\n",
      "(array([0.69609883, 2.083282  ]), 0.0400962772527432)\n",
      "(array([0.6985533 , 2.08260949]), 0.039451221398444786)\n",
      "(array([0.70098794, 2.08194238]), 0.03881654299339538)\n",
      "(array([0.70340291, 2.08128063]), 0.038192075088194284)\n",
      "(array([0.70579838, 2.08062421]), 0.037577653419471176)\n",
      "(array([0.70817449, 2.07997308]), 0.0369731163665652)\n",
      "(array([0.71053141, 2.07932719]), 0.0363783049089591)\n",
      "(array([0.71286929, 2.07868652]), 0.03579306258442545)\n",
      "(array([0.71518829, 2.07805102]), 0.03521723544785927)\n",
      "(array([0.71748856, 2.07742065]), 0.03465067203077876)\n",
      "(array([0.71977025, 2.07679537]), 0.0340932233014791)\n",
      "(array([0.72203351, 2.07617514]), 0.03354474262583064)\n",
      "(array([0.7242785 , 2.07555992]), 0.033005085728705925)\n",
      "(array([0.72650535, 2.07494966]), 0.03247411065602876)\n",
      "(array([0.72871421, 2.07434434]), 0.031951677737434604)\n",
      "(array([0.73090524, 2.0737439 ]), 0.031437649549528976)\n",
      "(array([0.73307857, 2.07314831]), 0.03093189087974216)\n",
      "(array([0.73523435, 2.07255753]), 0.03043426869075852)\n",
      "(array([0.73737272, 2.07197152]), 0.029944652085524454)\n",
      "(array([0.73949381, 2.07139025]), 0.02946291227281517)\n",
      "(array([0.74159778, 2.07081367]), 0.028988922533357355)\n",
      "(array([0.74368475, 2.07024175]), 0.028522558186495774)\n",
      "(array([0.74575487, 2.06967444]), 0.02806369655739726)\n",
      "(array([0.74780827, 2.06911172]), 0.027612216944781384)\n",
      "(array([0.74984508, 2.06855354]), 0.027168000589170793)\n",
      "(array([0.75186545, 2.06799987]), 0.026730930641651034)\n",
      "(array([0.75386949, 2.06745068]), 0.026300892133136335)\n",
      "(array([0.75585736, 2.06690591]), 0.025877771944125067)\n",
      "(array([0.75782916, 2.06636555]), 0.025461458774945826)\n",
      "(array([0.75978504, 2.06582955]), 0.02505184311647978)\n",
      "(array([0.76172513, 2.06529788]), 0.024648817221355503)\n",
      "(array([0.76364954, 2.06477051]), 0.02425227507560593)\n",
      "(array([0.76555842, 2.06424739]), 0.02386211237078213)\n",
      "(array([0.76745187, 2.0637285 ]), 0.023478226476515752)\n",
      "(array([0.76933004, 2.0632138 ]), 0.02310051641352218)\n",
      "(array([0.77119303, 2.06270326]), 0.022728882827039068)\n",
      "(array([0.77304098, 2.06219684]), 0.02236322796069035)\n",
      "(array([0.774874  , 2.06169451]), 0.022003455630773633)\n",
      "(array([0.77669222, 2.06119624]), 0.021649471200957806)\n",
      "(array([0.77849576, 2.06070199]), 0.021301181557390844)\n",
      "(array([0.78028472, 2.06021173]), 0.020958495084205827)\n",
      "(array([0.78205924, 2.05972543]), 0.020621321639421902)\n",
      "(array([0.78381943, 2.05924306]), 0.020289572531233282)\n",
      "(array([0.7855654 , 2.05876459]), 0.019963160494678896)\n",
      "(array([0.78729728, 2.05828998]), 0.019641999668688327)\n",
      "(array([0.78901516, 2.0578192 ]), 0.019326005573495418)\n",
      "(array([0.79071917, 2.05735223]), 0.019015095088417696)\n",
      "(array([0.79240941, 2.05688903]), 0.018709186429990896)\n",
      "(array([0.79408601, 2.05642957]), 0.01840819913045627)\n",
      "(array([0.79574906, 2.05597382]), 0.018112054016594506)\n",
      "(array([0.79739869, 2.05552175]), 0.017820673188898864)\n",
      "(array([0.79903499, 2.05507333]), 0.017533980001085164)\n",
      "(array([0.80065807, 2.05462853]), 0.01725189903992901)\n",
      "(array([0.80226805, 2.05418733]), 0.01697435610542992)\n",
      "(array([0.80386502, 2.05374968]), 0.016701278191292288)\n",
      "(array([0.80544909, 2.05331558]), 0.016432593465722664)\n",
      "(array([0.80702037, 2.05288498]), 0.01616823125253359)\n",
      "(array([0.80857896, 2.05245785]), 0.015908122012553483)\n",
      "(array([0.81012497, 2.05203418]), 0.01565219732533402)\n",
      "(array([0.81165848, 2.05161393]), 0.015400389871152885)\n",
      "(array([0.81317962, 2.05119707]), 0.015152633413305715)\n"
     ]
    },
    {
     "data": {
      "text/plain": [
       "(array([0.81317962, 2.05119707]),\n",
       " <function __main__.cost(hypothesis, training_y)>)"
      ]
     },
     "execution_count": 9,
     "metadata": {},
     "output_type": "execute_result"
    }
   ],
   "source": [
    "find_minimum(training_x, training_y)"
   ]
  },
  {
   "cell_type": "markdown",
   "metadata": {},
   "source": [
    "Compare our result with the correct $\\theta_0 = 1$ and $\\theta_1 = 2$"
   ]
  },
  {
   "cell_type": "code",
   "execution_count": 18,
   "metadata": {},
   "outputs": [
    {
     "data": {
      "text/plain": [
       "[<matplotlib.lines.Line2D at 0x219fab221f0>]"
      ]
     },
     "execution_count": 18,
     "metadata": {},
     "output_type": "execute_result"
    },
    {
     "data": {
      "image/png": "[encoded data removed]",
      "text/plain": [
       "<Figure size 432x288 with 1 Axes>"
      ]
     },
     "metadata": {
      "needs_background": "light"
     },
     "output_type": "display_data"
    }
   ],
   "source": [
    "plt.plot(training_x, training_y)\n",
    "plt.plot(training_x, hypothesis_theta(training_x, np.array([0.8131, 2.0512])))"
   ]
  },
  {
   "cell_type": "code",
   "execution_count": null,
   "metadata": {},
   "outputs": [],
   "source": []
  }
 ],
 "metadata": {
  "kernelspec": {
   "display_name": "Python 3",
   "language": "python",
   "name": "python3"
  },
  "language_info": {
   "codemirror_mode": {
    "name": "ipython",
    "version": 3
   },
   "file_extension": ".py",
   "mimetype": "text/x-python",
   "name": "python",
   "nbconvert_exporter": "python",
   "pygments_lexer": "ipython3",
   "version": "3.8.1"
  }
 },
 "nbformat": 4,
 "nbformat_minor": 4
}
