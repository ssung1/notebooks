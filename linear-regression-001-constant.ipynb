{
 "cells": [
  {
   "cell_type": "code",
   "execution_count": 11,
   "metadata": {},
   "outputs": [
    {
     "name": "stdout",
     "output_type": "stream",
     "text": [
      "Requirement already satisfied: matplotlib in d:\\jojo\\stuff\\notebooks\\lib\\site-packages (3.3.2)\n",
      "Requirement already satisfied: kiwisolver>=1.0.1 in d:\\jojo\\stuff\\notebooks\\lib\\site-packages (from matplotlib) (1.2.0)\n",
      "Requirement already satisfied: pyparsing!=2.0.4,!=2.1.2,!=2.1.6,>=2.0.3 in d:\\jojo\\stuff\\notebooks\\lib\\site-packages (from matplotlib) (2.4.7)\n",
      "Requirement already satisfied: pillow>=6.2.0 in d:\\jojo\\stuff\\notebooks\\lib\\site-packages (from matplotlib) (8.0.1)\n",
      "Requirement already satisfied: cycler>=0.10 in d:\\jojo\\stuff\\notebooks\\lib\\site-packages (from matplotlib) (0.10.0)\n",
      "Requirement already satisfied: certifi>=2020.06.20 in d:\\jojo\\stuff\\notebooks\\lib\\site-packages (from matplotlib) (2020.6.20)\n",
      "Requirement already satisfied: numpy>=1.15 in d:\\jojo\\stuff\\notebooks\\lib\\site-packages (from matplotlib) (1.19.2)\n",
      "Requirement already satisfied: python-dateutil>=2.1 in d:\\jojo\\stuff\\notebooks\\lib\\site-packages (from matplotlib) (2.8.1)\n",
      "Requirement already satisfied: six in d:\\jojo\\stuff\\notebooks\\lib\\site-packages (from cycler>=0.10->matplotlib) (1.15.0)"
     ]
    },
    {
     "name": "stderr",
     "output_type": "stream",
     "text": [
      "WARNING: You are using pip version 20.2.2; however, version 20.3 is available.\n",
      "You should consider upgrading via the 'd:\\jojo\\stuff\\notebooks\\scripts\\python.exe -m pip install --upgrade pip' command.\n"
     ]
    },
    {
     "name": "stdout",
     "output_type": "stream",
     "text": [
      "\n",
      "Requirement already satisfied: pandas in d:\\jojo\\stuff\\notebooks\\lib\\site-packages (1.1.3)\n",
      "Requirement already satisfied: numpy>=1.15.4 in d:\\jojo\\stuff\\notebooks\\lib\\site-packages (from pandas) (1.19.2)\n",
      "Requirement already satisfied: pytz>=2017.2 in d:\\jojo\\stuff\\notebooks\\lib\\site-packages (from pandas) (2020.1)\n",
      "Requirement already satisfied: python-dateutil>=2.7.3 in d:\\jojo\\stuff\\notebooks\\lib\\site-packages (from pandas) (2.8.1)\n",
      "Requirement already satisfied: six>=1.5 in d:\\jojo\\stuff\\notebooks\\lib\\site-packages (from python-dateutil>=2.7.3->pandas) (1.15.0)\n"
     ]
    },
    {
     "name": "stderr",
     "output_type": "stream",
     "text": [
      "WARNING: You are using pip version 20.2.2; however, version 20.3 is available.\n",
      "You should consider upgrading via the 'd:\\jojo\\stuff\\notebooks\\scripts\\python.exe -m pip install --upgrade pip' command.\n"
     ]
    }
   ],
   "source": [
    "import sys\n",
    "!{sys.executable} -m pip install matplotlib\n",
    "!{sys.executable} -m pip install pandas"
   ]
  },
  {
   "cell_type": "code",
   "execution_count": 12,
   "metadata": {},
   "outputs": [],
   "source": [
    "import matplotlib.pyplot as plt\n",
    "import numpy as np\n",
    "import pandas as pd"
   ]
  },
  {
   "cell_type": "markdown",
   "metadata": {},
   "source": [
    "In the previous example, we used a sample that had only one number.  Now we are going to look at cases where we have multiple numbers.\n",
    "\n",
    "Let's say our training set is\n",
    "\n",
    "|y |\n",
    "|--|\n",
    "|5 |\n",
    "|5 |\n",
    "|5 |\n",
    "\n",
    "- Our sample size, $m$, is 3\n",
    "- Our sample index, $i$, goes from 1 to 3 (or maybe 0 to 2 in Python world)\n",
    "- Our number of input is (still) 0"
   ]
  },
  {
   "cell_type": "code",
   "execution_count": 13,
   "metadata": {},
   "outputs": [],
   "source": [
    "training_y = np.array([5, 5, 5])"
   ]
  },
  {
   "cell_type": "markdown",
   "metadata": {},
   "source": [
    "And let's say we start with $h = 0$"
   ]
  },
  {
   "cell_type": "markdown",
   "metadata": {},
   "source": [
    "Our calcaulation of cost $J$ is a bit different now with multiple samples.  We need to sum up the cost of each sample."
   ]
  },
  {
   "cell_type": "code",
   "execution_count": 14,
   "metadata": {},
   "outputs": [
    {
     "data": {
      "text/plain": [
       "37.5"
      ]
     },
     "execution_count": 14,
     "metadata": {},
     "output_type": "execute_result"
    }
   ],
   "source": [
    "hypothesis = 0\n",
    "def cost(hypothesis, training_y):\n",
    "    return np.sum((hypothesis - training_y) ** 2) / 2\n",
    "cost(hypothesis, training_y)"
   ]
  },
  {
   "cell_type": "markdown",
   "metadata": {},
   "source": [
    "And before we start doing our gradient descent to find minimum cost $J$, let's just plot $h$ vs $J$."
   ]
  },
  {
   "cell_type": "code",
   "execution_count": 15,
   "metadata": {},
   "outputs": [],
   "source": [
    "# try calculating cost for hypothesis\n",
    "possible_hypotheses = np.arange(0, 10, 1)"
   ]
  },
  {
   "cell_type": "code",
   "execution_count": 16,
   "metadata": {},
   "outputs": [
    {
     "data": {
      "text/plain": [
       "[<matplotlib.lines.Line2D at 0x20bf36f8a00>]"
      ]
     },
     "execution_count": 16,
     "metadata": {},
     "output_type": "execute_result"
    },
    {
     "data": {
      "image/png": "[encoded data removed]",
      "text/plain": [
       "<Figure size 432x288 with 1 Axes>"
      ]
     },
     "metadata": {
      "needs_background": "light"
     },
     "output_type": "display_data"
    }
   ],
   "source": [
    "plt.plot(possible_hypotheses, [cost(hypothesis, training_y) for hypothesis in possible_hypotheses])"
   ]
  },
  {
   "cell_type": "markdown",
   "metadata": {},
   "source": [
    "And as seen here, we have minimum cost at $h = 5$"
   ]
  },
  {
   "cell_type": "markdown",
   "metadata": {},
   "source": [
    "Our calculation of slope is also a bit different.  We need to calculate the slope for each sample and then sum up all the slopes."
   ]
  },
  {
   "cell_type": "code",
   "execution_count": 17,
   "metadata": {},
   "outputs": [
    {
     "data": {
      "text/plain": [
       "-15"
      ]
     },
     "execution_count": 17,
     "metadata": {},
     "output_type": "execute_result"
    }
   ],
   "source": [
    "def slope(hypothesis, training_y):\n",
    "    return np.sum((hypothesis - training_y) * 1)\n",
    "slope(hypothesis, training_y)"
   ]
  },
  {
   "cell_type": "markdown",
   "metadata": {},
   "source": [
    "Each step of adjusting our hypothesis is called gradient descent.  So let's make a function for that:"
   ]
  },
  {
   "cell_type": "code",
   "execution_count": 18,
   "metadata": {},
   "outputs": [
    {
     "data": {
      "text/plain": [
       "1.5"
      ]
     },
     "execution_count": 18,
     "metadata": {},
     "output_type": "execute_result"
    }
   ],
   "source": [
    "def gradient_descent(hypothesis, training_y, learning_rate_alpha):\n",
    "    return hypothesis - learning_rate_alpha * slope(hypothesis, training_y)\n",
    "gradient_descent(hypothesis, training_y, 0.1)"
   ]
  },
  {
   "cell_type": "markdown",
   "metadata": {},
   "source": [
    "This will take while, so let our computer do this:"
   ]
  },
  {
   "cell_type": "code",
   "execution_count": 19,
   "metadata": {},
   "outputs": [],
   "source": [
    "def find_minimum():\n",
    "    hypothesis = 0\n",
    "    iteration = 0\n",
    "    acceptable_slope = 0.05\n",
    "    learning_rate_alpha = 0.1\n",
    "    current_slope = slope(hypothesis, training_y)\n",
    "    current_cost = 0\n",
    "    while abs(current_slope) > acceptable_slope and iteration < 100:\n",
    "        current_cost = cost(hypothesis, training_y)\n",
    "        current_slope = slope(hypothesis, training_y)\n",
    "        hypothesis = gradient_descent(hypothesis, training_y, learning_rate_alpha)\n",
    "        print((hypothesis, current_slope, current_cost))\n",
    "        iteration += 1\n",
    "    return (hypothesis, current_slope, current_cost)"
   ]
  },
  {
   "cell_type": "code",
   "execution_count": 20,
   "metadata": {},
   "outputs": [
    {
     "name": "stdout",
     "output_type": "stream",
     "text": [
      "(1.5, -15, 37.5)\n",
      "(2.55, -10.5, 18.375)\n",
      "(3.285, -7.3500000000000005, 9.003750000000002)\n",
      "(3.7995, -5.145, 4.411837499999999)\n",
      "(4.15965, -3.6014999999999997, 2.161800375)\n",
      "(4.411755, -2.52105, 1.0592821837499997)\n",
      "(4.5882285000000005, -1.764734999999999, 0.5190482700374994)\n",
      "(4.71175995, -1.2353144999999985, 0.2543336523183744)\n",
      "(4.798231965, -0.8647201499999992, 0.12462348963600353)\n",
      "(4.8587623755000005, -0.6053041049999992, 0.06106550992164168)\n",
      "(4.90113366285, -0.42371287349999864, 0.02992209986160431)\n",
      "(4.9307935639950005, -0.2965990114499988, 0.014661828932186084)\n",
      "(4.951555494796501, -0.20761930801499862, 0.007184296176771144)\n",
      "(4.96608884635755, -0.14533351561049823, 0.0035203051266178226)\n",
      "(4.976262192450285, -0.10173346092734903, 0.001724949512042742)\n",
      "(4.9833835347152, -0.07121342264914432, 0.0008452252609009435)\n",
      "(4.98836847430064, -0.04984939585439996, 0.00041416037784144466)\n"
     ]
    },
    {
     "data": {
      "text/plain": [
       "(4.98836847430064, -0.04984939585439996, 0.00041416037784144466)"
      ]
     },
     "execution_count": 20,
     "metadata": {},
     "output_type": "execute_result"
    }
   ],
   "source": [
    "find_minimum()"
   ]
  },
  {
   "cell_type": "markdown",
   "metadata": {},
   "source": [
    "For fun\n",
    "\n",
    "- Set initial hypothesis to a number greater than 5 and see our algorithm moving it down to 5.\n",
    "- Set training_y to be more than one number.\n",
    "- Try a large $\\alpha$ and see our algorithm hopping back and forth around 5."
   ]
  }
 ],
 "metadata": {
  "kernelspec": {
   "display_name": "Python 3",
   "language": "python",
   "name": "python3"
  },
  "language_info": {
   "codemirror_mode": {
    "name": "ipython",
    "version": 3
   },
   "file_extension": ".py",
   "mimetype": "text/x-python",
   "name": "python",
   "nbconvert_exporter": "python",
   "pygments_lexer": "ipython3",
   "version": "3.8.3"
  }
 },
 "nbformat": 4,
 "nbformat_minor": 4
}
