{
 "cells": [
  {
   "cell_type": "code",
   "execution_count": 1,
   "metadata": {},
   "outputs": [
    {
     "name": "stderr",
     "output_type": "stream",
     "text": [
      "WARNING: You are using pip version 20.2.3; however, version 20.2.4 is available.\n",
      "You should consider upgrading via the 'c:\\users\\jojo\\jupyter\\scripts\\python.exe -m pip install --upgrade pip' command.\n"
     ]
    },
    {
     "name": "stdout",
     "output_type": "stream",
     "text": [
      "Requirement already satisfied: matplotlib in c:\\users\\jojo\\jupyter\\lib\\site-packages (3.3.2)\n",
      "Requirement already satisfied: certifi>=2020.06.20 in c:\\users\\jojo\\jupyter\\lib\\site-packages (from matplotlib) (2020.6.20)\n",
      "Requirement already satisfied: numpy>=1.15 in c:\\users\\jojo\\jupyter\\lib\\site-packages (from matplotlib) (1.19.2)\n",
      "Requirement already satisfied: cycler>=0.10 in c:\\users\\jojo\\jupyter\\lib\\site-packages (from matplotlib) (0.10.0)\n",
      "Requirement already satisfied: python-dateutil>=2.1 in c:\\users\\jojo\\jupyter\\lib\\site-packages (from matplotlib) (2.8.1)\n",
      "Requirement already satisfied: pyparsing!=2.0.4,!=2.1.2,!=2.1.6,>=2.0.3 in c:\\users\\jojo\\jupyter\\lib\\site-packages (from matplotlib) (2.4.7)\n",
      "Requirement already satisfied: kiwisolver>=1.0.1 in c:\\users\\jojo\\jupyter\\lib\\site-packages (from matplotlib) (1.2.0)\n",
      "Requirement already satisfied: pillow>=6.2.0 in c:\\users\\jojo\\jupyter\\lib\\site-packages (from matplotlib) (8.0.0)\n",
      "Requirement already satisfied: six in c:\\users\\jojo\\jupyter\\lib\\site-packages (from cycler>=0.10->matplotlib) (1.15.0)\n",
      "Requirement already satisfied: pandas in c:\\users\\jojo\\jupyter\\lib\\site-packages (1.1.3)\n",
      "Requirement already satisfied: numpy>=1.15.4 in c:\\users\\jojo\\jupyter\\lib\\site-packages (from pandas) (1.19.2)\n",
      "Requirement already satisfied: python-dateutil>=2.7.3 in c:\\users\\jojo\\jupyter\\lib\\site-packages (from pandas) (2.8.1)\n",
      "Requirement already satisfied: pytz>=2017.2 in c:\\users\\jojo\\jupyter\\lib\\site-packages (from pandas) (2020.1)\n",
      "Requirement already satisfied: six>=1.5 in c:\\users\\jojo\\jupyter\\lib\\site-packages (from python-dateutil>=2.7.3->pandas) (1.15.0)\n"
     ]
    },
    {
     "name": "stderr",
     "output_type": "stream",
     "text": [
      "WARNING: You are using pip version 20.2.3; however, version 20.2.4 is available.\n",
      "You should consider upgrading via the 'c:\\users\\jojo\\jupyter\\scripts\\python.exe -m pip install --upgrade pip' command.\n"
     ]
    }
   ],
   "source": [
    "import sys\n",
    "!{sys.executable} -m pip install matplotlib\n",
    "!{sys.executable} -m pip install pandas"
   ]
  },
  {
   "cell_type": "code",
   "execution_count": 5,
   "metadata": {},
   "outputs": [],
   "source": [
    "import matplotlib.pyplot as plt\n",
    "import numpy as np\n",
    "import pandas as pd"
   ]
  },
  {
   "cell_type": "markdown",
   "metadata": {},
   "source": [
    "In linear regression, we are creating a linear function to calculate value $f(x)$ for a given $x$.  To find $f(x)$, we are given sample values of $x$ and $y$.  We want our $f(x)$ to be very close to $y$ for every value of $x$.  The hope is that for any other values of $x$ not in the sample, $f(x)$ would predict the correct value of $y$.\n",
    "\n",
    "The equation is just like any linear equation, in the form of\n",
    "\n",
    "$$\n",
    "f(x) = mx + b\n",
    "$$\n",
    "\n",
    "But in linear-regression-speak, we write\n",
    "\n",
    "$$\n",
    "h_\\theta(x) = \\theta_0 + \\theta_1x\n",
    "$$\n",
    "\n",
    "(this is not complete as we will see later, but it is easier to understand for now)"
   ]
  },
  {
   "cell_type": "markdown",
   "metadata": {},
   "source": [
    "The steps of linear regression are\n",
    "\n",
    "1. Pick some $\\theta_{0}$ and $\\theta_{1}$\n",
    "2. Calculate $h_{\\theta}(x)$ for every given sample of $x$\n",
    "3. Compare the calculated value with the actual value.  Calculate the overall error level (known as cost function $J$)\n",
    "   by using\n",
    "   $$\n",
    "     \\frac12\\sum_{i=1}^m(h_\\theta(x)^{(i)} - y^{(i)})^2\n",
    "   $$\n",
    "   where    \n",
    "   - $m$ is the number of training samples\n",
    "   - $y$ is the actual value of training sample for a given $x$\n",
    "   - $i$ is the index of the training sample\n",
    "   - $x^{(i)}$ is the $x$ of the the training sample of index $i$\n",
    "   - $j$ is the index of the input variable\n",
    "   - $n$ is the number of input variabls per training sample\n",
    "4. Minimize the cost function $J$"
   ]
  },
  {
   "cell_type": "markdown",
   "metadata": {},
   "source": [
    "Start with a riduculous example of something even simpler, where we only have $\\theta_0$.  This means our $x$ has no purpose:\n",
    "$$\n",
    "h_\\theta = \\theta_0\n",
    "$$\n",
    "Let's say our training set is\n",
    "\n",
    "|x |y |\n",
    "|--|--|\n",
    "|0 |5 |\n",
    "|1 |5 |\n",
    "|2 |5 |\n",
    "\n",
    "This means\n",
    "\n",
    "- $m$ is 3\n",
    "- $i$ goes from 1 to 3 (or maybe 0 to 2 in Python world)\n",
    "- $n$ is 0"
   ]
  },
  {
   "cell_type": "code",
   "execution_count": 6,
   "metadata": {},
   "outputs": [],
   "source": [
    "training_x = np.array([0, 1, 2])\n",
    "training_y = np.array([5, 5, 5])"
   ]
  },
  {
   "cell_type": "code",
   "execution_count": 7,
   "metadata": {},
   "outputs": [
    {
     "data": {
      "text/plain": [
       "[<matplotlib.lines.Line2D at 0x2027cc65520>]"
      ]
     },
     "execution_count": 7,
     "metadata": {},
     "output_type": "execute_result"
    },
    {
     "data": {
      "image/png": "[encoded data removed]",
      "text/plain": [
       "<Figure size 432x288 with 1 Axes>"
      ]
     },
     "metadata": {
      "needs_background": "light"
     },
     "output_type": "display_data"
    }
   ],
   "source": [
    "plt.plot(training_x, training_y)"
   ]
  },
  {
   "cell_type": "markdown",
   "metadata": {},
   "source": [
    "And let's say we start with $\\theta_0=0$\n",
    "\n",
    "Our hypothesis would be"
   ]
  },
  {
   "cell_type": "code",
   "execution_count": 8,
   "metadata": {},
   "outputs": [
    {
     "data": {
      "text/plain": [
       "[<matplotlib.lines.Line2D at 0x2027cd4efd0>]"
      ]
     },
     "execution_count": 8,
     "metadata": {},
     "output_type": "execute_result"
    },
    {
     "data": {
      "image/png": "[encoded data removed]",
      "text/plain": [
       "<Figure size 432x288 with 1 Axes>"
      ]
     },
     "metadata": {
      "needs_background": "light"
     },
     "output_type": "display_data"
    }
   ],
   "source": [
    "# we are using 0 * training_x just so we end up with an array, even though\n",
    "# we said our hypothesis does not depend on x\n",
    "def hypothesis_theta(theta):\n",
    "    return theta + 0 * training_x\n",
    "\n",
    "hypothesis = hypothesis_theta(0)\n",
    "hypothesis\n",
    "# visually, we can see our training set at 5 while our hypothesis is at 0\n",
    "plt.plot(training_x, training_y)\n",
    "plt.plot(training_x, hypothesis)"
   ]
  },
  {
   "cell_type": "markdown",
   "metadata": {},
   "source": [
    "Our cost $J$ is"
   ]
  },
  {
   "cell_type": "code",
   "execution_count": 29,
   "metadata": {},
   "outputs": [
    {
     "data": {
      "text/plain": [
       "37.5"
      ]
     },
     "execution_count": 29,
     "metadata": {},
     "output_type": "execute_result"
    }
   ],
   "source": [
    "def cost(hypothesis):\n",
    "    return np.sum((hypothesis - training_y) ** 2) / 2\n",
    "cost(hypothesis)"
   ]
  },
  {
   "cell_type": "markdown",
   "metadata": {},
   "source": [
    "And before we start doing our gradient descent to find minimum cost $J$, let's just plot $\\theta_0$ vs $J$."
   ]
  },
  {
   "cell_type": "code",
   "execution_count": 30,
   "metadata": {},
   "outputs": [
    {
     "data": {
      "text/plain": [
       "37.5"
      ]
     },
     "execution_count": 30,
     "metadata": {},
     "output_type": "execute_result"
    }
   ],
   "source": [
    "# theta 0\n",
    "hypothesis_theta_0 = hypothesis_theta(0)\n",
    "cost_theta_0 = cost(hypothesis_theta_0)\n",
    "cost_theta_0"
   ]
  },
  {
   "cell_type": "code",
   "execution_count": 31,
   "metadata": {},
   "outputs": [
    {
     "data": {
      "text/plain": [
       "24.0"
      ]
     },
     "execution_count": 31,
     "metadata": {},
     "output_type": "execute_result"
    }
   ],
   "source": [
    "# theta 1\n",
    "hypothesis_theta_1 = hypothesis_theta(1)\n",
    "cost_theta_1 = cost(hypothesis_theta_1)\n",
    "cost_theta_1"
   ]
  },
  {
   "cell_type": "markdown",
   "metadata": {},
   "source": [
    "And so on... but to make it easier:"
   ]
  },
  {
   "cell_type": "code",
   "execution_count": 32,
   "metadata": {},
   "outputs": [],
   "source": [
    "# try calculating cost for theta from 0 to 9\n",
    "theta_list = np.arange(0, 10, 1)"
   ]
  },
  {
   "cell_type": "code",
   "execution_count": 33,
   "metadata": {},
   "outputs": [
    {
     "data": {
      "text/plain": [
       "[<matplotlib.lines.Line2D at 0x2027ce5f070>]"
      ]
     },
     "execution_count": 33,
     "metadata": {},
     "output_type": "execute_result"
    },
    {
     "data": {
      "image/png": "[encoded data removed]",
      "text/plain": [
       "<Figure size 432x288 with 1 Axes>"
      ]
     },
     "metadata": {
      "needs_background": "light"
     },
     "output_type": "display_data"
    }
   ],
   "source": [
    "plt.plot(theta_list, [cost(hypothesis_theta(theta)) for theta in theta_list])"
   ]
  },
  {
   "cell_type": "markdown",
   "metadata": {},
   "source": [
    "And as seen here, we have minimum cost at $\\theta_0 = 5$"
   ]
  },
  {
   "cell_type": "markdown",
   "metadata": {},
   "source": [
    "But if we start from $\\theta_0 = 0$, how do we get to 5?\n",
    "\n",
    "To understand this, we can look at the instantaneous slope (derivative) of the cost at $\\theta_0$.  If the slope is negative, we need to increase $\\theta_0$, and if the slope is positive, we need to increase $\\theta_0$.  Not only that, the amount to increase is proportional to the slope.  The proportion, in our case, is the learning rate $\\alpha$.\n",
    "\n",
    "We can get closer to the correct $\\theta_0$ by the gradient descent formula\n",
    "\n",
    "$$\n",
    "\\theta_0 = \\theta_0 - \\alpha\\sum_{i=1}^m(h_\\theta(x^{(i)}) - y^{(i)})x_0\n",
    "$$\n",
    "\n",
    "where:\n",
    "- $x_0$ is 1 (so that $\\theta_0x$ = $\\theta_0$)\n",
    "- $\\alpha$ is the learning rate so we don't overshoot"
   ]
  },
  {
   "cell_type": "code",
   "execution_count": 34,
   "metadata": {},
   "outputs": [
    {
     "data": {
      "text/plain": [
       "37.5"
      ]
     },
     "execution_count": 34,
     "metadata": {},
     "output_type": "execute_result"
    }
   ],
   "source": [
    "# so let's start over again\n",
    "# we have theta0 = 0\n",
    "cost(hypothesis_theta(0))"
   ]
  },
  {
   "cell_type": "code",
   "execution_count": 36,
   "metadata": {},
   "outputs": [
    {
     "data": {
      "text/plain": [
       "1.5"
      ]
     },
     "execution_count": 36,
     "metadata": {},
     "output_type": "execute_result"
    }
   ],
   "source": [
    "def slope(hypothesis):\n",
    "    return np.sum((hypothesis - training_y) * 1)\n",
    "\n",
    "learning_rate_alpha = 0.1\n",
    "\n",
    "def gradient_descent(theta):\n",
    "    return theta - learning_rate_alpha * slope(hypothesis_theta(theta))\n",
    "\n",
    "gradient_descent(0)"
   ]
  },
  {
   "cell_type": "markdown",
   "metadata": {},
   "source": [
    "We have a new theta, so we can calculate our cost again."
   ]
  },
  {
   "cell_type": "code",
   "execution_count": 16,
   "metadata": {},
   "outputs": [
    {
     "data": {
      "text/plain": [
       "18.375"
      ]
     },
     "execution_count": 16,
     "metadata": {},
     "output_type": "execute_result"
    }
   ],
   "source": [
    "cost(hypothesis_theta(1.5))"
   ]
  },
  {
   "cell_type": "markdown",
   "metadata": {},
   "source": [
    "Of course our cost is high; the correct theta is 5.\n",
    "And since our cost is still high, we repeat."
   ]
  },
  {
   "cell_type": "code",
   "execution_count": 17,
   "metadata": {},
   "outputs": [
    {
     "data": {
      "text/plain": [
       "2.55"
      ]
     },
     "execution_count": 17,
     "metadata": {},
     "output_type": "execute_result"
    }
   ],
   "source": [
    "gradient_descent(1.5)"
   ]
  },
  {
   "cell_type": "code",
   "execution_count": 18,
   "metadata": {},
   "outputs": [
    {
     "data": {
      "text/plain": [
       "3.285"
      ]
     },
     "execution_count": 18,
     "metadata": {},
     "output_type": "execute_result"
    }
   ],
   "source": [
    "gradient_descent(2.55)"
   ]
  },
  {
   "cell_type": "markdown",
   "metadata": {},
   "source": [
    "This will take while, so let our computer do this:"
   ]
  },
  {
   "cell_type": "code",
   "execution_count": 19,
   "metadata": {},
   "outputs": [],
   "source": [
    "def find_minimum():\n",
    "    theta = 10\n",
    "    iteration = 0\n",
    "    acceptable_cost = 0.001\n",
    "    current_cost = cost(hypothesis_theta(theta))\n",
    "    while current_cost > acceptable_cost and iteration < 100:\n",
    "        theta = gradient_descent(theta)\n",
    "        current_cost = cost(hypothesis_theta(theta))\n",
    "        print((theta, current_cost))\n",
    "        iteration += 1\n",
    "    return (theta, cost)"
   ]
  },
  {
   "cell_type": "code",
   "execution_count": 20,
   "metadata": {},
   "outputs": [
    {
     "name": "stdout",
     "output_type": "stream",
     "text": [
      "(8.5, 18.375)\n",
      "(7.45, 9.003750000000002)\n",
      "(6.715, 4.411837499999999)\n",
      "(6.2005, 2.161800375)\n",
      "(5.84035, 1.0592821837499997)\n",
      "(5.588245, 0.5190482700374994)\n",
      "(5.4117714999999995, 0.2543336523183744)\n",
      "(5.28824005, 0.12462348963600353)\n",
      "(5.201768035, 0.06106550992164168)\n",
      "(5.1412376244999995, 0.02992209986160431)\n",
      "(5.09886633715, 0.014661828932186084)\n",
      "(5.0692064360049995, 0.007184296176771144)\n",
      "(5.048444505203499, 0.0035203051266178226)\n",
      "(5.03391115364245, 0.001724949512042742)\n",
      "(5.023737807549715, 0.0008452252609009435)\n"
     ]
    },
    {
     "data": {
      "text/plain": [
       "(5.023737807549715, <function __main__.cost(hypothesis)>)"
      ]
     },
     "execution_count": 20,
     "metadata": {},
     "output_type": "execute_result"
    }
   ],
   "source": [
    "find_minimum()"
   ]
  },
  {
   "cell_type": "markdown",
   "metadata": {},
   "source": [
    "For fun, set initial theta to a number greater than 5 and see our algorithm moving it down to 5.\n",
    "\n",
    "Also for fun, try a large $\\alpha$ and see our algorithm hopping back and forth around 5."
   ]
  },
  {
   "cell_type": "code",
   "execution_count": null,
   "metadata": {},
   "outputs": [],
   "source": []
  }
 ],
 "metadata": {
  "kernelspec": {
   "display_name": "Python 3",
   "language": "python",
   "name": "python3"
  },
  "language_info": {
   "codemirror_mode": {
    "name": "ipython",
    "version": 3
   },
   "file_extension": ".py",
   "mimetype": "text/x-python",
   "name": "python",
   "nbconvert_exporter": "python",
   "pygments_lexer": "ipython3",
   "version": "3.8.3"
  }
 },
 "nbformat": 4,
 "nbformat_minor": 4
}
